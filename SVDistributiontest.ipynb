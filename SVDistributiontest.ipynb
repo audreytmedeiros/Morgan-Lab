{
 "cells": [
  {
   "cell_type": "markdown",
   "metadata": {},
   "source": [
    "# SV Distribution\n",
    "## How to measure distribution of SVs\n",
    "Notes: \n",
    "Need to get X,Y coordinates of ROI pixels, as well as AZline pixels\n",
    "1. Figure out how to get ROI data into Python! Line needs to be a list of pixel coordinates\n",
    "\n",
    "    -Open synapse image. Open SV rois and PM rois. Draw a line for the AZ (PM_straightL end to PM_straightR end)\n",
    "    \n",
    "    -Select your AZ line-->File-->Save as...-->XY Coordinates. Save in Syn__ folder as Syn__AZ. \n",
    "    \n",
    "     -This file is a list of all coordinates on your line but NOT in pixels yet. "
   ]
  },
  {
   "cell_type": "markdown",
   "metadata": {},
   "source": [
    "Synapses where this distance code may be a problem:\n",
    "\n",
    "* Syn09\n",
    "\n",
    "* Syn20\n",
    "\n",
    "* Syn25\n",
    "\n",
    "* Syn27\n",
    "\n",
    "* Syn40"
   ]
  },
  {
   "cell_type": "code",
   "execution_count": 17,
   "metadata": {},
   "outputs": [],
   "source": [
    "#Import packages\n",
    "import numpy as np\n",
    "import pandas as pd\n",
    "import matplotlib.pyplot as plt\n",
    "import seaborn as sns\n",
    "sns.set()\n",
    "\n",
    "#Standard distance formula\n",
    "def distance(v,p):\n",
    "    return np.sqrt((v[0]-p[0])**2 +(v[1]-p[1])**2)\n",
    "\n",
    "#import V and L\n",
    "V = np.array(pd.read_table(\"V.txt\", header=None, delimiter=\" \"))\n",
    "L = np.array(pd.read_table(\"L.txt\", header=None, delimiter=\" \"))\n",
    "\n",
    "min_dist= []\n",
    "for v in V:\n",
    "    d_v = []\n",
    "    for p in L:\n",
    "        d_v.append(distance(v,p))\n",
    "    min_dist.append(np.min(d_v))"
   ]
  },
  {
   "cell_type": "code",
   "execution_count": 18,
   "metadata": {},
   "outputs": [],
   "source": [
    "#Turn your pixel distance into an array and multiply it by the pixel/nm scale to get distance in nm\n",
    "SVdistances = np.array(min_dist)/0.27"
   ]
  },
  {
   "cell_type": "code",
   "execution_count": 19,
   "metadata": {},
   "outputs": [
    {
     "data": {
      "text/plain": [
       "array([634.41536333, 563.55962533, 258.96809047, 195.70140465,\n",
       "       519.58884241, 418.04299436, 676.41027801, 818.47662035,\n",
       "       499.89024859, 488.95902976, 472.71216414, 412.59325753,\n",
       "       272.4929367 , 501.35618545, 335.58907526, 649.67017062,\n",
       "       753.3100255 , 259.28571294, 727.66232238, 463.3331853 ,\n",
       "       391.28012622, 264.10809609, 333.4156277 , 600.43422787,\n",
       "       672.83157771, 225.31794332, 511.96922061, 394.33575272,\n",
       "        56.41313412, 744.89575412, 635.97025234, 508.06931685,\n",
       "       641.38267993, 137.8355116 , 706.23327031, 568.40691389,\n",
       "       481.90864242, 606.69560823, 457.23868533, 480.98264758,\n",
       "       699.215708  , 528.1252917 , 627.93890645, 443.11529649,\n",
       "       487.14616437, 570.38239526, 354.51235852, 603.1694978 ,\n",
       "       554.72777837, 472.82822409, 357.47936332, 371.20276831,\n",
       "       470.41411287, 544.89777046, 286.21746795, 792.00742311,\n",
       "       454.81722764, 494.09406367, 406.05837255, 125.76242108,\n",
       "       455.08858933, 185.22221852, 469.72834574, 427.8699596 ,\n",
       "       497.04200472, 180.91369988, 874.70943637, 271.6610492 ,\n",
       "       375.24568998, 506.85290058, 527.38451885, 395.0655864 ,\n",
       "       614.85943613, 332.92155636, 697.09371203, 535.20761199,\n",
       "       504.80543998, 579.79230944, 268.02636891, 177.81635384,\n",
       "       480.41191745, 649.45899191, 539.68694884, 426.5052421 ,\n",
       "       412.24401793, 420.48048811, 301.27757232, 437.36647972,\n",
       "       253.72397864, 326.26245253, 676.18716413, 177.35288732,\n",
       "       518.43914736, 266.66666667, 516.72971871, 641.63927578,\n",
       "       298.60213883, 689.61530796, 135.8305246 , 409.08744508,\n",
       "       550.65741979, 101.90234439, 472.00067425, 347.93137459,\n",
       "        81.2285637 , 127.44185581, 360.61351176, 470.37037037,\n",
       "       673.6771318 , 764.25636503, 536.66653886, 558.46153555,\n",
       "       313.30794048, 455.67598529, 382.39731849, 225.28750112,\n",
       "       440.88077452, 406.05837255, 298.5561965 , 404.17912882,\n",
       "       520.44615238, 591.90932832, 308.27632662, 514.06820362,\n",
       "       500.56209831, 721.50011384, 303.11596245, 483.88290028,\n",
       "        31.42696805, 678.54641702, 340.82124653, 200.75304049,\n",
       "        67.99096204, 245.95492912, 359.94588833, 599.67984142,\n",
       "       529.95328106, 691.91886423, 523.11455153, 501.42458236,\n",
       "        86.38447252, 523.53394493, 561.02248414, 489.74392122,\n",
       "       733.48296266, 110.49210289, 537.03703704, 603.29456711,\n",
       "       582.55385899, 648.65588578, 438.74431124, 283.73851445,\n",
       "       648.19047481, 594.63767484, 240.74074074, 587.72304816,\n",
       "       720.43463486, 760.11695007, 666.87239624,  72.76623224,\n",
       "       686.33537096, 494.60740829, 417.79682121, 720.77728201,\n",
       "       766.9171178 , 282.84271247,  83.23038909, 188.74358972,\n",
       "       561.0408219 , 611.82898352, 647.88354387, 510.74866376,\n",
       "       338.82310635, 558.0929708 , 285.47363959, 205.44708516,\n",
       "       651.26133583, 340.92185203, 546.5943945 , 592.88187384,\n",
       "       297.82015545, 369.35044752, 334.11431145,  31.42696805,\n",
       "       578.58443215, 636.90782497, 135.17250067, 194.36506316,\n",
       "       533.33333333, 474.98144903, 647.76708375, 425.02319795,\n",
       "       337.11842729, 204.87876572, 381.9306956 , 776.83364213,\n",
       "       140.93553771, 445.21538075, 451.85185185, 378.08629378,\n",
       "       598.8214305 , 441.96841156, 578.83331882, 270.16735148,\n",
       "       201.67338356, 382.39731849, 289.29221608, 535.20761199,\n",
       "       541.15914812, 570.04560258, 231.20724496, 275.29756939,\n",
       "       809.9264137 , 155.73182253, 652.61949749, 243.68569111,\n",
       "       275.29756939, 603.06714907, 473.21971627, 548.11060933,\n",
       "       455.67598529, 552.1997412 , 551.86428025, 782.0429789 ,\n",
       "       183.78120047, 801.78128164, 277.08555725, 291.2533815 ,\n",
       "       668.89545134, 225.28750112, 461.53854947, 493.31609357,\n",
       "       368.9788675 , 159.30231976, 449.06548293, 521.22310518,\n",
       "       185.62909757, 139.41874241, 385.93232383, 346.19229969])"
      ]
     },
     "execution_count": 19,
     "metadata": {},
     "output_type": "execute_result"
    }
   ],
   "source": [
    "SVdistances"
   ]
  },
  {
   "cell_type": "code",
   "execution_count": 20,
   "metadata": {},
   "outputs": [
    {
     "data": {
      "text/plain": [
       "446.9328279447016"
      ]
     },
     "execution_count": 20,
     "metadata": {},
     "output_type": "execute_result"
    }
   ],
   "source": [
    "#to check, get L and V for Syn76, and check mean\n",
    "np.mean(SVdistances)"
   ]
  },
  {
   "cell_type": "code",
   "execution_count": 25,
   "metadata": {},
   "outputs": [
    {
     "data": {
      "text/plain": [
       "(array([ 3.,  5.,  2.,  7.,  2.,  9.,  7.,  5., 13., 10.,  8.,  8., 12.,\n",
       "         9., 11., 17., 16., 18., 14., 10., 10., 12.,  8.,  6.,  6.,  3.,\n",
       "         4.,  4.,  0.,  1.]),\n",
       " array([ 31.42696805,  59.53638366,  87.64579927, 115.75521488,\n",
       "        143.8646305 , 171.97404611, 200.08346172, 228.19287733,\n",
       "        256.30229294, 284.41170855, 312.52112416, 340.63053977,\n",
       "        368.73995538, 396.84937099, 424.9587866 , 453.06820221,\n",
       "        481.17761782, 509.28703343, 537.39644904, 565.50586466,\n",
       "        593.61528027, 621.72469588, 649.83411149, 677.9435271 ,\n",
       "        706.05294271, 734.16235832, 762.27177393, 790.38118954,\n",
       "        818.49060515, 846.60002076, 874.70943637]),\n",
       " <a list of 30 Patch objects>)"
      ]
     },
     "execution_count": 25,
     "metadata": {},
     "output_type": "execute_result"
    },
    {
     "data": {
      "image/png": "[encoded data removed]",
      "text/plain": [
       "<Figure size 432x288 with 1 Axes>"
      ]
     },
     "metadata": {},
     "output_type": "display_data"
    }
   ],
   "source": [
    "black, gray = ((0, 0, 0), (0.6, 0.6, 0.6))\n",
    "plt.hist(SVdistances, bins=30, color=black, alpha=0.8)"
   ]
  },
  {
   "cell_type": "code",
   "execution_count": null,
   "metadata": {},
   "outputs": [],
   "source": []
  }
 ],
 "metadata": {
  "kernelspec": {
   "display_name": "Python 3",
   "language": "python",
   "name": "python3"
  },
  "language_info": {
   "codemirror_mode": {
    "name": "ipython",
    "version": 3
   },
   "file_extension": ".py",
   "mimetype": "text/x-python",
   "name": "python",
   "nbconvert_exporter": "python",
   "pygments_lexer": "ipython3",
   "version": "3.6.7"
  }
 },
 "nbformat": 4,
 "nbformat_minor": 2
}
