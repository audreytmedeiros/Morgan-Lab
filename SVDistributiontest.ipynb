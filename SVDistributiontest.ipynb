{
 "cells": [
  {
   "cell_type": "markdown",
   "metadata": {},
   "source": [
    "# SV Distribution\n",
    "## How to measure distribution of SVs\n",
    "Notes: \n",
    "Need to get X,Y coordinates of ROI pixels, as well as AZline pixels\n",
    "1. Figure out how to get ROI data into Python! Line needs to be a list of pixel coordinates\n",
    "\n",
    "    -Open synapse image. Open SV rois and PM rois. Draw a line for the AZ (PM_straightL end to PM_straightR end)\n",
    "    \n",
    "    -Select your AZ line-->File-->Save as...-->XY Coordinates. Save in Syn__ folder as Syn__AZ. \n",
    "    \n",
    "     -This file is a list of all coordinates on your line but NOT in pixels yet. "
   ]
  },
  {
   "cell_type": "markdown",
   "metadata": {},
   "source": [
    "Synapses where this distance code may be a problem:\n",
    "\n",
    "* Syn09\n",
    "\n",
    "* Syn20\n",
    "\n",
    "* Syn25\n",
    "\n",
    "* Syn27\n",
    "\n",
    "* Syn40"
   ]
  },
  {
   "cell_type": "code",
   "execution_count": 76,
   "metadata": {},
   "outputs": [],
   "source": [
    "#Import packages\n",
    "import numpy as np\n",
    "import pandas as pd\n",
    "import matplotlib.pyplot as plt\n",
    "from pathlib import Path\n",
    "import seaborn as sns\n",
    "sns.set()"
   ]
  },
  {
   "cell_type": "markdown",
   "metadata": {},
   "source": [
    "## IMPORTANT NOTE ON AZ FILE FORMAT\n",
    "If you saved your AZ.txt line with no scale on Fiji, img_conversion= 3716px/inch\n",
    "\n",
    "If you saved your AZ.txt file while doing other analysis and you saved it with a scale, your img_conversion =0.27px/nm"
   ]
  },
  {
   "cell_type": "code",
   "execution_count": 100,
   "metadata": {},
   "outputs": [],
   "source": [
    "#Code to turn AZ line into X,Y coordinates\n",
    "img_conversion = 3716 #px/inch. \n",
    "df = np.round(pd.read_table('Syn51AZ.txt', header=None)*img_conversion, decimals=4)\n",
    "df_diff = df.diff()\n",
    "df_ed = np.sqrt(df_diff.iloc[:,0]**2 +df_diff.iloc[:,1]**2) #Finding Euclidean distance\n",
    "        #This code will only give you some pixel X,Y coordinates\n",
    "\n",
    "x_fin, y_fin = [], [] \n",
    "#You must get the distances of all X,Y coordinates on that line. \n",
    "#If the distance between 2 pixel points (above) is more than 1, fill in the blanks by 1\n",
    "for i in range(len(df)): \n",
    "    x, y = df.iloc[i,:]\n",
    "    x_fin.append(x)\n",
    "    y_fin.append(y)\n",
    "    if i == len(df) - 1:\n",
    "        continue\n",
    "    if df_ed.iloc[i+1] < 1.1:\n",
    "        continue\n",
    "    x_fin += list(np.linspace(x, df.iloc[i+1,0], int(df_ed[i+1])))\n",
    "    y_fin += list(np.linspace(y, df.iloc[i+1,1], int(df_ed[i+1])))\n",
    "L = np.array([x_fin,y_fin]).T    \n",
    "\n",
    "#If you want to make sure it worked and see all of your X,Y values of your line now, uncomment Ltable_pd\n",
    "Ltabletest = {'X values':x_fin, 'Y values':y_fin}\n",
    "Ltable_pd = pd.DataFrame(Ltabletest)\n",
    "#Ltable_pd\n",
    "    #Notice now none of the values are more than 1px apart"
   ]
  },
  {
   "cell_type": "code",
   "execution_count": 99,
   "metadata": {},
   "outputs": [],
   "source": [
    "#Code to get all SV X,Y Coordinates. Ensure Path import is done!\n",
    "\n",
    "##Unzip SV folder\n",
    "import zipfile\n",
    "with zipfile.ZipFile(\"Syn51SV.zip\",\"r\") as zip_ref:\n",
    "    zip_ref.extractall(\"Syn51 SV ROI//\")\n",
    "    \n",
    "##Create path where all ROIs are    \n",
    "vesicle_path = Path('Syn51 SV ROI//')\n",
    "vesicle_path.exists()    \n",
    "\n",
    "##Make an array called names where you will put the X,Y coordinates from the ROI file name\n",
    "names = []\n",
    "for file in vesicle_path.iterdir():\n",
    "    names.append(file.stem)\n",
    "\n",
    "##Create arrays for X and Y coordinates for reach SV    \n",
    "names_split = [name.split('-') for name in names]\n",
    "v_x, v_y = [], []\n",
    "for y_str, x_str in names_split:\n",
    "    v_x.append(int(x_str))\n",
    "    v_y.append(int(y_str))\n",
    "V = np.array([v_x,v_y]).T \n",
    "    \n",
    "#If you want to make sure it worked and see all of your X,Y values of your SV, uncomment Vtable_pd\n",
    "Vtabletest = {'X values':v_x, 'Y values':v_y}\n",
    "Vtable_pd = pd.DataFrame(Vtabletest)\n",
    "#Vtable_pd"
   ]
  },
  {
   "cell_type": "code",
   "execution_count": null,
   "metadata": {},
   "outputs": [],
   "source": [
    "#Create variables for conditions\n",
    "SVdistances_aSynCon = \n",
    "SVdistances_aSyn = \n",
    "SVdistances_ResCon = \n",
    "SVdistances_Rescue = "
   ]
  },
  {
   "cell_type": "code",
   "execution_count": 79,
   "metadata": {},
   "outputs": [],
   "source": [
    "#Standard distance formula\n",
    "def distance(v,p):\n",
    "    return np.sqrt((v[0]-p[0])**2 +(v[1]-p[1])**2)\n",
    "\n",
    "#import V and L\n",
    "\n",
    "V = np.array([v_x,v_y]).T \n",
    "L = np.array([x_fin,y_fin]).T  \n",
    "\n",
    "min_dist= []\n",
    "for v in V:\n",
    "    d_v = []\n",
    "    for p in L:\n",
    "        d_v.append(distance(v,p))\n",
    "    min_dist.append(np.min(d_v))"
   ]
  },
  {
   "cell_type": "code",
   "execution_count": 89,
   "metadata": {},
   "outputs": [
    {
     "data": {
      "text/plain": [
       "array([ 562.07715631,  279.47549795,  343.20045124,  518.79304983,\n",
       "        619.39049639,  445.00788966,  722.47716736,  643.61122009,\n",
       "        338.72836381,  500.29913673,  640.88305914, 1005.14936417,\n",
       "        963.8197352 ,  672.00897004,  460.59324857,  760.32341732,\n",
       "        465.24138301,  545.68412218,  722.29222508,  564.07467564,\n",
       "        968.01907053,   56.7652036 , 1065.07140425,  248.55256347,\n",
       "        578.31505007,  797.55514327,  380.76053296,  477.99498639,\n",
       "        275.60611679,  251.0493331 , 1038.47566208,  447.9083152 ,\n",
       "        425.06529139, 1029.7603936 ,   29.9055451 ,  577.58196102,\n",
       "        295.81747866,  921.24102428,  684.79470749,  175.57047718,\n",
       "       1066.40706236,  773.02796867,  411.26743427,  652.35664791,\n",
       "        457.24494242])"
      ]
     },
     "execution_count": 89,
     "metadata": {},
     "output_type": "execute_result"
    }
   ],
   "source": [
    "#Turn your pixel distance into an array and multiply it by the pixel/nm scale to get distance in nm\n",
    "SVdistances = np.array(min_dist)/0.27\n",
    "SVdistances"
   ]
  },
  {
   "cell_type": "code",
   "execution_count": 94,
   "metadata": {},
   "outputs": [
    {
     "data": {
      "text/plain": [
       "574.6498876839664"
      ]
     },
     "execution_count": 94,
     "metadata": {},
     "output_type": "execute_result"
    }
   ],
   "source": [
    "#to check, get L and V for Syn76, and check mean\n",
    "mean_dist= np.mean(SVdistances)\n",
    "mean_dist"
   ]
  },
  {
   "cell_type": "code",
   "execution_count": 98,
   "metadata": {},
   "outputs": [],
   "source": [
    "#Bar graph of the means for each figure\n",
    "#plt.bar(mean_dist, height=5000, width=20, bottom=None)"
   ]
  },
  {
   "cell_type": "code",
   "execution_count": 97,
   "metadata": {},
   "outputs": [
    {
     "data": {
      "text/plain": [
       "(array([2., 0., 1., 0., 4., 2., 2., 2., 6., 3., 4., 3., 3., 2., 3., 0., 0.,\n",
       "        1., 3., 4.]),\n",
       " array([  29.9055451 ,   81.73062096,  133.55569682,  185.38077269,\n",
       "         237.20584855,  289.03092441,  340.85600028,  392.68107614,\n",
       "         444.506152  ,  496.33122787,  548.15630373,  599.98137959,\n",
       "         651.80645545,  703.63153132,  755.45660718,  807.28168304,\n",
       "         859.10675891,  910.93183477,  962.75691063, 1014.5819865 ,\n",
       "        1066.40706236]),\n",
       " <a list of 20 Patch objects>)"
      ]
     },
     "execution_count": 97,
     "metadata": {},
     "output_type": "execute_result"
    },
    {
     "data": {
      "image/png": "[encoded data removed]",
      "text/plain": [
       "<Figure size 432x288 with 1 Axes>"
      ]
     },
     "metadata": {},
     "output_type": "display_data"
    }
   ],
   "source": [
    "#Figure1, Con versus aSyn\n",
    "sns.set_style(\"white\")\n",
    "black, gray = ((0, 0, 0), (0.6, 0.6, 0.6))\n",
    "plt.hist(SVdistances, bins=20, color=black, alpha=0.8)"
   ]
  },
  {
   "cell_type": "code",
   "execution_count": null,
   "metadata": {},
   "outputs": [],
   "source": [
    "#Figure5, Con versus Rescue\n",
    "sns.set_style(\"white\")\n",
    "black, gray = ((0, 0, 0), (0.6, 0.6, 0.6))\n",
    "plt.hist(SVdistances, bins=30, color=black, alpha=0.8)"
   ]
  },
  {
   "cell_type": "code",
   "execution_count": null,
   "metadata": {},
   "outputs": [],
   "source": []
  }
 ],
 "metadata": {
  "kernelspec": {
   "display_name": "Python 3",
   "language": "python",
   "name": "python3"
  },
  "language_info": {
   "codemirror_mode": {
    "name": "ipython",
    "version": 3
   },
   "file_extension": ".py",
   "mimetype": "text/x-python",
   "name": "python",
   "nbconvert_exporter": "python",
   "pygments_lexer": "ipython3",
   "version": "3.6.7"
  }
 },
 "nbformat": 4,
 "nbformat_minor": 2
}
